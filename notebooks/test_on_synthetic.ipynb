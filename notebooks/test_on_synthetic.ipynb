{
 "cells": [
  {
   "cell_type": "code",
   "execution_count": 1,
   "metadata": {
    "collapsed": true
   },
   "outputs": [],
   "source": [
    "%load_ext autoreload\n",
    "%autoreload 2\n",
    "\n",
    "import scipy.optimize as opt\n",
    "from sklearn.datasets import make_regression\n",
    "import numpy as np\n",
    "import pandas as pd\n",
    "import robi\n",
    "from tqdm import tqdm\n",
    "import time\n",
    "import torch\n",
    "import seaborn as sns\n",
    "\n",
    "def new_dataset(n_samples, censoring, nb_features, n_informative, noise):\n",
    "\n",
    "    X, Y, coef = make_regression(n_samples=n_samples,\n",
    "                           n_features=nb_features,\n",
    "                           n_informative=n_informative,\n",
    "                           noise=noise, coef=True)\n",
    "\n",
    "    Y += abs(np.min(Y))\n",
    "\n",
    "    def get_observed_time(x):\n",
    "        rnd_cens = np.random.RandomState(0)\n",
    "        # draw censoring times\n",
    "        time_censor = rnd_cens.uniform(high=x, size=n_samples)\n",
    "        event = Y < time_censor\n",
    "        time = np.where(event, Y, time_censor)\n",
    "        return event, time\n",
    "\n",
    "    def censoring_amount(x):\n",
    "        event, _ = get_observed_time(x)\n",
    "        cens = 1.0 - event.sum() / event.shape[0]\n",
    "        return (cens - censoring)**2\n",
    "\n",
    "    # search for upper limit to obtain the desired censoring amount\n",
    "    res = opt.minimize_scalar(censoring_amount,\n",
    "                              method=\"bounded\",\n",
    "                              bounds=(0, Y.max()))\n",
    "\n",
    "    # compute observed time\n",
    "    event, time = get_observed_time(res.x)\n",
    "\n",
    "    # upper time limit such that the probability\n",
    "    # of being censored is non-zero for `t > tau`\n",
    "    tau = time[event].max()\n",
    "    mask = time < tau\n",
    "    X = X[mask]\n",
    "    Y = Y[mask]\n",
    "    event = event[mask]\n",
    "\n",
    "    df = pd.DataFrame(data=X)\n",
    "    df['time'] = Y\n",
    "    df['event'] = event\n",
    "    df.columns = df.columns.values.astype(str)\n",
    "\n",
    "    return df, coef"
   ]
  },
  {
   "cell_type": "code",
   "execution_count": 16,
   "outputs": [],
   "source": [
    "n_workers=7\n",
    "n_random=1e4\n",
    "n_permut_nfp=100\n",
    "device='cuda'\n",
    "\n",
    "def do_trial():\n",
    "    params = {\n",
    "        'n_samples': np.random.randint(2, 1000)*1,\n",
    "        'censoring': np.round(np.random.uniform(0.1, 1.),2),\n",
    "        'nb_features': np.random.randint(2, 1000),\n",
    "        'noise': np.round(np.random.uniform(0., 10.),2),\n",
    "    }\n",
    "    params['n_informative'] = np.random.randint(1, params['nb_features'])\n",
    "\n",
    "    df, coef = new_dataset(**params)\n",
    "\n",
    "    candidates = df.drop(columns=['time', 'event']).columns.tolist()\n",
    "\n",
    "    res,_ = robi.make_selection(df,\n",
    "                                candidates=candidates,\n",
    "                                targets = {\n",
    "                                  'time': ('time', 'event'),\n",
    "                                },\n",
    "                                n_workers=n_workers,\n",
    "                                n_random=n_random,\n",
    "                                n_permut_nfp=n_permut_nfp,\n",
    "                                verbose=False,\n",
    "                                max_corr=1,\n",
    "                                device=device)\n",
    "\n",
    "    res['coef_sel'] = [coef[np.array(x).astype('int64')].tolist() for x in res['sel_time']]\n",
    "\n",
    "    res['actual_nfp'] = [(np.array(x)==0).sum() for x in res['coef_sel']]\n",
    "    res['actual_ntp'] = [(np.array(x)!=0).sum() for x in res['coef_sel']]\n",
    "\n",
    "    return res"
   ],
   "metadata": {
    "collapsed": false
   }
  },
  {
   "cell_type": "code",
   "execution_count": 17,
   "outputs": [
    {
     "name": "stderr",
     "output_type": "stream",
     "text": [
      " 30%|███       | 3/10 [01:33<03:37, 31.12s/it]\n"
     ]
    },
    {
     "ename": "RuntimeError",
     "evalue": "CUDA error: out of memory\nCUDA kernel errors might be asynchronously reported at some other API call, so the stacktrace below might be incorrect.\nFor debugging consider passing CUDA_LAUNCH_BLOCKING=1.\nCompile with `TORCH_USE_CUDA_DSA` to enable device-side assertions.\n",
     "output_type": "error",
     "traceback": [
      "\u001B[1;31m---------------------------------------------------------------------------\u001B[0m",
      "\u001B[1;31mRuntimeError\u001B[0m                              Traceback (most recent call last)",
      "Cell \u001B[1;32mIn[17], line 12\u001B[0m\n\u001B[0;32m      9\u001B[0m \u001B[38;5;28;01mexcept\u001B[39;00m:\n\u001B[0;32m     10\u001B[0m     time\u001B[38;5;241m.\u001B[39msleep(\u001B[38;5;241m1\u001B[39m)\n\u001B[1;32m---> 12\u001B[0m \u001B[43mtorch\u001B[49m\u001B[38;5;241;43m.\u001B[39;49m\u001B[43mcuda\u001B[49m\u001B[38;5;241;43m.\u001B[39;49m\u001B[43mempty_cache\u001B[49m\u001B[43m(\u001B[49m\u001B[43m)\u001B[49m\n",
      "File \u001B[1;32m~\\miniconda3\\envs\\robi\\lib\\site-packages\\torch\\cuda\\memory.py:133\u001B[0m, in \u001B[0;36mempty_cache\u001B[1;34m()\u001B[0m\n\u001B[0;32m    122\u001B[0m \u001B[38;5;250m\u001B[39m\u001B[38;5;124mr\u001B[39m\u001B[38;5;124;03m\"\"\"Releases all unoccupied cached memory currently held by the caching\u001B[39;00m\n\u001B[0;32m    123\u001B[0m \u001B[38;5;124;03mallocator so that those can be used in other GPU application and visible in\u001B[39;00m\n\u001B[0;32m    124\u001B[0m \u001B[38;5;124;03m`nvidia-smi`.\u001B[39;00m\n\u001B[1;32m   (...)\u001B[0m\n\u001B[0;32m    130\u001B[0m \u001B[38;5;124;03m    more details about GPU memory management.\u001B[39;00m\n\u001B[0;32m    131\u001B[0m \u001B[38;5;124;03m\"\"\"\u001B[39;00m\n\u001B[0;32m    132\u001B[0m \u001B[38;5;28;01mif\u001B[39;00m is_initialized():\n\u001B[1;32m--> 133\u001B[0m     \u001B[43mtorch\u001B[49m\u001B[38;5;241;43m.\u001B[39;49m\u001B[43m_C\u001B[49m\u001B[38;5;241;43m.\u001B[39;49m\u001B[43m_cuda_emptyCache\u001B[49m\u001B[43m(\u001B[49m\u001B[43m)\u001B[49m\n",
      "\u001B[1;31mRuntimeError\u001B[0m: CUDA error: out of memory\nCUDA kernel errors might be asynchronously reported at some other API call, so the stacktrace below might be incorrect.\nFor debugging consider passing CUDA_LAUNCH_BLOCKING=1.\nCompile with `TORCH_USE_CUDA_DSA` to enable device-side assertions.\n"
     ]
    }
   ],
   "source": [
    "all_nsel_by_permissiveness = []\n",
    "for _ in tqdm(range(10)):\n",
    "    try:\n",
    "        r = do_trial()\n",
    "        all_nsel_by_permissiveness.append(r)\n",
    "        dfr = pd.concat(all_nsel_by_permissiveness)\n",
    "        # with open('res_siminf.pickle', 'wb') as handle:\n",
    "        #     pickle.dump(dfr, handle, protocol=pickle.HIGHEST_PROTOCOL)\n",
    "    except:\n",
    "        time.sleep(1)\n",
    "\n",
    "    torch.cuda.empty_cache()"
   ],
   "metadata": {
    "collapsed": false
   }
  },
  {
   "cell_type": "code",
   "execution_count": 13,
   "outputs": [
    {
     "name": "stdout",
     "output_type": "stream",
     "text": [
      "n synth: 10\n"
     ]
    }
   ],
   "source": [
    "print(f\"n synth: {dfr.loc[0.01].shape[0]}\")"
   ],
   "metadata": {
    "collapsed": false
   }
  },
  {
   "cell_type": "code",
   "execution_count": 15,
   "outputs": [
    {
     "data": {
      "text/plain": "<Axes: xlabel='permissiveness', ylabel='actual_nfp'>"
     },
     "execution_count": 15,
     "metadata": {},
     "output_type": "execute_result"
    },
    {
     "data": {
      "text/plain": "<Figure size 640x480 with 1 Axes>",
      "image/png": "[encoded data removed]"
     },
     "metadata": {},
     "output_type": "display_data"
    }
   ],
   "source": [
    "sns.lineplot(dfr, x='permissiveness', y='actual_nfp', errorbar=('pi',95))\n",
    "sns.lineplot(dfr, x='permissiveness', y='n_sel_time', errorbar=('pi',95))"
   ],
   "metadata": {
    "collapsed": false
   }
  },
  {
   "cell_type": "code",
   "execution_count": 18,
   "outputs": [
    {
     "ename": "RuntimeError",
     "evalue": "CUDA error: out of memory\nCUDA kernel errors might be asynchronously reported at some other API call, so the stacktrace below might be incorrect.\nFor debugging consider passing CUDA_LAUNCH_BLOCKING=1.\nCompile with `TORCH_USE_CUDA_DSA` to enable device-side assertions.\n",
     "output_type": "error",
     "traceback": [
      "\u001B[1;31m---------------------------------------------------------------------------\u001B[0m",
      "\u001B[1;31mRuntimeError\u001B[0m                              Traceback (most recent call last)",
      "Cell \u001B[1;32mIn[18], line 1\u001B[0m\n\u001B[1;32m----> 1\u001B[0m \u001B[43mtorch\u001B[49m\u001B[38;5;241;43m.\u001B[39;49m\u001B[43mcuda\u001B[49m\u001B[38;5;241;43m.\u001B[39;49m\u001B[43mempty_cache\u001B[49m\u001B[43m(\u001B[49m\u001B[43m)\u001B[49m\n",
      "File \u001B[1;32m~\\miniconda3\\envs\\robi\\lib\\site-packages\\torch\\cuda\\memory.py:133\u001B[0m, in \u001B[0;36mempty_cache\u001B[1;34m()\u001B[0m\n\u001B[0;32m    122\u001B[0m \u001B[38;5;250m\u001B[39m\u001B[38;5;124mr\u001B[39m\u001B[38;5;124;03m\"\"\"Releases all unoccupied cached memory currently held by the caching\u001B[39;00m\n\u001B[0;32m    123\u001B[0m \u001B[38;5;124;03mallocator so that those can be used in other GPU application and visible in\u001B[39;00m\n\u001B[0;32m    124\u001B[0m \u001B[38;5;124;03m`nvidia-smi`.\u001B[39;00m\n\u001B[1;32m   (...)\u001B[0m\n\u001B[0;32m    130\u001B[0m \u001B[38;5;124;03m    more details about GPU memory management.\u001B[39;00m\n\u001B[0;32m    131\u001B[0m \u001B[38;5;124;03m\"\"\"\u001B[39;00m\n\u001B[0;32m    132\u001B[0m \u001B[38;5;28;01mif\u001B[39;00m is_initialized():\n\u001B[1;32m--> 133\u001B[0m     \u001B[43mtorch\u001B[49m\u001B[38;5;241;43m.\u001B[39;49m\u001B[43m_C\u001B[49m\u001B[38;5;241;43m.\u001B[39;49m\u001B[43m_cuda_emptyCache\u001B[49m\u001B[43m(\u001B[49m\u001B[43m)\u001B[49m\n",
      "\u001B[1;31mRuntimeError\u001B[0m: CUDA error: out of memory\nCUDA kernel errors might be asynchronously reported at some other API call, so the stacktrace below might be incorrect.\nFor debugging consider passing CUDA_LAUNCH_BLOCKING=1.\nCompile with `TORCH_USE_CUDA_DSA` to enable device-side assertions.\n"
     ]
    }
   ],
   "source": [
    "torch.cuda.empty_cache()"
   ],
   "metadata": {
    "collapsed": false
   }
  },
  {
   "cell_type": "code",
   "execution_count": null,
   "outputs": [],
   "source": [],
   "metadata": {
    "collapsed": false
   }
  }
 ],
 "metadata": {
  "kernelspec": {
   "display_name": "Python 3",
   "language": "python",
   "name": "python3"
  },
  "language_info": {
   "codemirror_mode": {
    "name": "ipython",
    "version": 2
   },
   "file_extension": ".py",
   "mimetype": "text/x-python",
   "name": "python",
   "nbconvert_exporter": "python",
   "pygments_lexer": "ipython2",
   "version": "2.7.6"
  }
 },
 "nbformat": 4,
 "nbformat_minor": 0
}
